# Introduction to Bedrock - Text Generation Sample : For multiple Vertical Industries

---
In this demo notebook, we demonstrate how to use the Bedrock Python SDK for a text generation example.

---

Note: This notebook was tested in Amazon SageMaker Studio with Python 3 (Data Science 2.0) kernel.

1. [Bedrock Set Up](#1.-Bedrock-Set-Up)
2. [Redis Set Up](#2.-Redis-Set-Up)

## 1. Bedrock Set Up
---
Before executing the notebook for the first time, execute this cell to add bedrock extensions to the Python boto3 SDK
---

!pwd
!python3 -m pip install boto3
!python3 -m pip install ./bedrock-python-sdk/boto3-1.26.162-py3-none-any.whl
!python3 -m pip install ./bedrock-python-sdk/botocore-1.29.162-py3-none-any.whl
